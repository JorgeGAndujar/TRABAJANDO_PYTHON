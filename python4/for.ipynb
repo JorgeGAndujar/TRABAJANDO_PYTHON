{
 "cells": [
  {
   "cell_type": "markdown",
   "id": "b0c3c61b-9576-4dbf-9646-7a787d481b69",
   "metadata": {},
   "source": [
    "<center><span style=\"color:red; font-size:30px\">FOR</span></center>"
   ]
  },
  {
   "cell_type": "markdown",
   "id": "f2a0cb2a-1745-449c-b34b-9ec5a4fbfe06",
   "metadata": {},
   "source": [
    "<span style=\"color:blue; font-size:15px\">EJEMPLO 1</span><br>\n",
    "Hacer un programa para recorrer una cadena por elemento"
   ]
  },
  {
   "cell_type": "code",
   "execution_count": null,
   "id": "e8b097bf-9b33-4608-b927-dbb1be36bc97",
   "metadata": {},
   "outputs": [],
   "source": [
    "# ENTRADA\n",
    "cadena = input(\"Ingresar cadena?\")\n",
    "# PROCESO - SALIDA\n",
    "for caracter in cadena:\n",
    "    print(caracter)"
   ]
  },
  {
   "cell_type": "code",
   "execution_count": null,
   "id": "556a07fb-7a2c-421d-99c8-bb82cf7add82",
   "metadata": {},
   "outputs": [],
   "source": [
    "# ENTRADA\n",
    "cadena = input(\"Ingresar cadena?\")\n",
    "# PROCESO - SALIDA\n",
    "for caracter in cadena:\n",
    "    print(caracter, end=' ')"
   ]
  },
  {
   "cell_type": "markdown",
   "id": "15ef6552-65ff-4e70-843c-4c4ffdd1a264",
   "metadata": {},
   "source": [
    "<span style=\"color:blue; font-size:15px\">EJEMPLO 2</span><br>\n",
    "Hacer un programa para recorrer una cadena por índice"
   ]
  },
  {
   "cell_type": "code",
   "execution_count": null,
   "id": "bb7530bd-70bc-46a7-b26b-fbc2035206e6",
   "metadata": {},
   "outputs": [],
   "source": [
    "# ENTRADA\n",
    "cadena = input(\"Ingresar cadena?\")\n",
    "# PROCESO - SALIDA\n",
    "print(\"Longitud de la cadena: \", len(cadena))\n",
    "for indice in range(len(cadena)):\n",
    "    print(cadena[indice])"
   ]
  },
  {
   "cell_type": "markdown",
   "id": "1609449d-6f81-4d8c-b7cb-f5600e3e1a99",
   "metadata": {},
   "source": [
    "<span style=\"color:blue; font-size:15px\">EJEMPLO 3</span><br>\n",
    "Hacer un programa para generar una serie 0..N donde N ingresará por teclado."
   ]
  },
  {
   "cell_type": "code",
   "execution_count": null,
   "id": "87822481-3a8d-40f9-817a-ceb0688b2ca4",
   "metadata": {},
   "outputs": [],
   "source": [
    "# ENTRADA\n",
    "n = int(input(\"Ingrese n de la serie?\"))\n",
    "for i in range(n):          # Equivalente en java for(i=0; i<20; i++)\n",
    "    print(i, end=' ') # end='' para que no haga cambio de linea, en java = System.out.print"
   ]
  },
  {
   "cell_type": "markdown",
   "id": "94b11c75-70dd-4bca-84d1-bade62912e3a",
   "metadata": {},
   "source": [
    "<span style=\"color:blue; font-size:15px\">EJEMPLO 4</span><br>\n",
    "Hacer un programa para recorrer una lista."
   ]
  },
  {
   "cell_type": "code",
   "execution_count": null,
   "id": "748f296c-3cc6-40b4-9df2-d723ae9b42e2",
   "metadata": {},
   "outputs": [],
   "source": [
    "lista_numeros = [8,9,2,4,2,1]\n",
    "for numero in lista_numeros:\n",
    "    print(numero, end='  ')\n"
   ]
  },
  {
   "cell_type": "markdown",
   "id": "57cee0b1-c964-492f-8aee-4a67537fc6e3",
   "metadata": {},
   "source": [
    "<span style=\"color:blue; font-size:15px\">EJEMPLO 5</span><br>\n",
    "Hacer un programa para recorrer una lista, mostrando sólo los números pares."
   ]
  },
  {
   "cell_type": "code",
   "execution_count": null,
   "id": "fb0b8097-3656-43ea-8117-05eb5699e186",
   "metadata": {},
   "outputs": [],
   "source": [
    "lista_numeros = [8,9,2,4,2,1]\n",
    "for numero in lista_numeros:\n",
    "    if numero % 2 == 0:\n",
    "       print(numero, end='  ')"
   ]
  },
  {
   "cell_type": "markdown",
   "id": "295e11da-8f56-4ad0-9228-c4876a18cfdb",
   "metadata": {},
   "source": [
    "<span style=\"color:blue; font-size:15px\">EJEMPLO 6</span><br>\n",
    "Hacer un programa para llenar una lista con numeros aleatorios entre el rango[1,10]."
   ]
  },
  {
   "cell_type": "code",
   "execution_count": null,
   "id": "fe9caa8c-e7ec-4369-ac51-b3194fd18b13",
   "metadata": {},
   "outputs": [],
   "source": [
    "from random import randint\n",
    "longitud = int(input('Ingresar la longitud de la lista?'))\n",
    "lista = []\n",
    "for i in range(longitud):\n",
    "    numero = randint(1,10)\n",
    "    lista.append(numero)\n",
    "    print(numero)\n",
    "print(lista)"
   ]
  },
  {
   "cell_type": "markdown",
   "id": "b4c306a4-4fc4-473c-9b69-90d0e683f2e4",
   "metadata": {},
   "source": [
    "<span style=\"color:blue; font-size:15px\">EJEMPLO 7</span><br>\n",
    "Hacer un programa para llenar una lista con numeros aleatorios entre el rango[1,10], pero que no se repitan. Tambien que se guarden en dos variables una ordenada y otra sin ordenar."
   ]
  },
  {
   "cell_type": "code",
   "execution_count": null,
   "id": "1fa78534-6b3b-49f7-a7e0-7ed7f35611f7",
   "metadata": {},
   "outputs": [],
   "source": [
    "from random import randint\n",
    "longitud = int(input('Ingresar la longitud de la lista?'))\n",
    "lista_original = []\n",
    "lista_ordenada = []\n",
    "for i in range(longitud):\n",
    "    numero = randint(1,10)\n",
    "    print(numero)\n",
    "    if numero not in lista_original:\n",
    "       lista_original.append(numero)\n",
    "lista_ordenada = lista_original.copy()\n",
    "lista_ordenada.sort()\n",
    "print(lista_original)\n",
    "print(lista_ordenada)"
   ]
  },
  {
   "cell_type": "markdown",
   "id": "028080de-3e32-45de-9668-978c46487716",
   "metadata": {},
   "source": [
    "<span style=\"color:blue; font-size:15px\">EJEMPLO 8</span><br>\n",
    "Hacer un programa para llenar una lista con numeros aleatorios entre el rango [1,10], luego el programa debe separar la lista formada en 2 lista una de pares y otra de impares.\r"
   ]
  },
  {
   "cell_type": "code",
   "execution_count": null,
   "id": "04d6a17c-931f-4d07-aa12-4ea676a4285c",
   "metadata": {},
   "outputs": [],
   "source": [
    "from random import randint\n",
    "longitud = int(input('Ingresar la longitud de la lista?'))\n",
    "original = []\n",
    "for i in range(longitud):\n",
    "    numero = randint(1,10)\n",
    "    original.append(numero)\n",
    "pares = []\n",
    "impares = []\n",
    "for numero in original:\n",
    "      if numero % 2 == 0:\n",
    "         pares.append(numero)\n",
    "      else:\n",
    "         impares.append(numero)\n",
    "print(\"Lista original: \", original)\n",
    "print(\"Lista pares: \", pares)\n",
    "print(\"Lista impares: \", impares)"
   ]
  },
  {
   "cell_type": "markdown",
   "id": "d1b2ebdc-5713-4732-b305-6643ba414010",
   "metadata": {},
   "source": [
    "<span style=\"color:blue; font-size:15px\">EJEMPLO 9</span><br>\n",
    "Hacer un programa para eliminar un elemento de una lista. La lista será aleatoria de 10 números que incluya duplicados."
   ]
  },
  {
   "cell_type": "code",
   "execution_count": null,
   "id": "6c58a771-4408-4efb-83c9-ea08fa340ef3",
   "metadata": {},
   "outputs": [],
   "source": [
    " import random\n",
    "# LLENAR LISTA\n",
    "numeros = []\n",
    "for i in range(10):\n",
    "    numero = random.randint(1,10)\n",
    "    numeros.append(numero)\n",
    "print(numeros)\n",
    "# ELIMINAR ESCOGIENDO UN NUMERO\n",
    "numero_eliminar = int(input(\"Ingrese número a eliminar?\"))\n",
    "while numero_eliminar in numeros:\n",
    "      numeros.remove(numero_eliminar)\n",
    "print(numeros)\n"
   ]
  },
  {
   "cell_type": "markdown",
   "id": "d67b4fb9-4bc6-40d7-854b-74011a555261",
   "metadata": {},
   "source": [
    "<span style=\"color:blue; font-size:15px\">EJEMPLO 10</span><br>\n",
    "Hacer un programa que nos de todas las posibles combinaciones que se pueden obtener con las letras[a,b,c], y contarlas."
   ]
  },
  {
   "cell_type": "code",
   "execution_count": null,
   "id": "ea4dde0c-4912-4bb4-8e4f-80b993b585fb",
   "metadata": {},
   "outputs": [],
   "source": [
    "letras = [\"a\",\"b\",\"c\"]\n",
    "c = 0\n",
    "for primera in letras:\n",
    "    for segunda in letras:\n",
    "        for tercera in letras:\n",
    "            print(primera + segunda + tercera)\n",
    "            c = c + 1\n",
    "print(\"Combinaciones posibles: \",c)    "
   ]
  },
  {
   "cell_type": "markdown",
   "id": "64820975-0794-4707-8f55-e8e33e8093a2",
   "metadata": {},
   "source": [
    "<span style=\"color:blue; font-size:15px\">EJEMPLO 11</span><br>\n",
    "Del ejemplo anterior mostrar solo las combinaciones donde ninguna letras se repiten."
   ]
  },
  {
   "cell_type": "code",
   "execution_count": null,
   "id": "28493424-3c75-4251-951c-1c0823684292",
   "metadata": {},
   "outputs": [],
   "source": [
    "letras = [\"a\",\"b\",\"c\"]\n",
    "c = 0\n",
    "for primera in letras:\n",
    "    for segunda in letras:\n",
    "        for tercera in letras: \n",
    "            if primera != segunda and primera != tercera and segunda != tercera:\n",
    "               print(primera + segunda + tercera)\n",
    "               c = c + 1\n",
    "print(\"Combinaciones posibles: \",c)"
   ]
  },
  {
   "cell_type": "markdown",
   "id": "c0283d54-cfe8-4843-8473-25ff56512956",
   "metadata": {},
   "source": [
    "<span style=\"color:blue; font-size:15px\">EJEMPLO 12</span><br>\n",
    "Hacer un programa donde el usuario ingresará una clave de 5 letras en mayusculas y el programa tiene que averiguar cual es dicha clave y el número de intentos fallidos."
   ]
  },
  {
   "cell_type": "code",
   "execution_count": 3,
   "id": "90be9d09-753a-451c-8be0-b6ce06210976",
   "metadata": {},
   "outputs": [
    {
     "name": "stdin",
     "output_type": "stream",
     "text": [
      "Ingresa tu clave de cinco letras en mayuscula? ZZZZZ\n"
     ]
    },
    {
     "name": "stdout",
     "output_type": "stream",
     "text": [
      "Tu clave es:  ZZZZZ\n",
      "Número de intentos:  14348906\n"
     ]
    }
   ],
   "source": [
    "clave = input(\"Ingresa tu clave de cinco letras en mayuscula?\")\n",
    "alfabeto = \"ABCDEFGHIJKLMNÑOPQRSTUVWXYZ\"\n",
    "c = 0\n",
    "bandera = False\n",
    "for p1 in alfabeto:\n",
    "    for p2 in alfabeto:\n",
    "        for p3 in alfabeto:\n",
    "            for p4 in alfabeto:\n",
    "                for p5 in alfabeto:\n",
    "                    unir = p1 + p2 + p3 + p4 + p5\n",
    "                    if clave == unir:\n",
    "                       print(\"Tu clave es: \", unir)\n",
    "                       bandera = True\n",
    "                    if bandera == False:\n",
    "                       c = c + 1                      \n",
    "print(\"Número de intentos: \", c)"
   ]
  },
  {
   "cell_type": "markdown",
   "id": "05ad63d6-ca00-4643-a5c4-da7ee55bca0f",
   "metadata": {},
   "source": [
    "<span style=\"color:blue; font-size:15px\">EJEMPLO 13</span><br>\n",
    "Hacer un programa para generar el alfabeto en español."
   ]
  },
  {
   "cell_type": "code",
   "execution_count": 8,
   "id": "89d2e680-6225-4f36-aa43-2f9b9c8f7b43",
   "metadata": {},
   "outputs": [
    {
     "name": "stdout",
     "output_type": "stream",
     "text": [
      "A B C D E F G H I J K L M N Ñ O P Q R S T U V W X Y Z "
     ]
    }
   ],
   "source": [
    "''' \n",
    "CÓDIGO UNICODE\n",
    "A    Z         Ñ\n",
    "65   90 = 26  209\n",
    "'''\n",
    "for codigo in range(65,91):\n",
    "    letra = chr(codigo)\n",
    "    print(letra, end=' ') \n",
    "    if letra == 'N':\n",
    "       print(chr(209), end=' ')"
   ]
  },
  {
   "cell_type": "markdown",
   "id": "2b4938c9-9527-4f5e-b9e4-65cb0f882f4a",
   "metadata": {},
   "source": [
    "<span style=\"color:blue; font-size:15px\">EJEMPLO 14</span><br>\n",
    "Hacer un programa que genere un password aleatorio de 8 caracteres que solo involucre letras de alfabeto en español en mayusculas."
   ]
  },
  {
   "cell_type": "code",
   "execution_count": 30,
   "id": "b019fae3-899f-4056-990f-d5ac2b3457d4",
   "metadata": {},
   "outputs": [
    {
     "name": "stdout",
     "output_type": "stream",
     "text": [
      "Password:  OWMHEAKV\n"
     ]
    }
   ],
   "source": [
    "import random\n",
    "alfabeto = \"ABCDEFGHIJKLMNÑOPQRSTUVWXYZ\"\n",
    "password = \"\"\n",
    "for i in range (8):\n",
    "    indice = random.randint(0,26)\n",
    "    password = password + alfabeto[indice]\n",
    "print(\"Password: \", password)\n",
    "\n"
   ]
  },
  {
   "cell_type": "code",
   "execution_count": 36,
   "id": "19f81d6e-5394-4bc3-9dd5-3647a112d307",
   "metadata": {},
   "outputs": [
    {
     "name": "stdout",
     "output_type": "stream",
     "text": [
      "Contraseña:  SOUUNPED\n"
     ]
    }
   ],
   "source": [
    "# OTRA FORMA DE VERLO\n",
    "import random\n",
    "contraseña = \"\"\n",
    "for i in range(8):\n",
    "    numero = random.randint(65,91)\n",
    "    if numero == 91:\n",
    "       contraseña = contraseña + chr(209)\n",
    "    else:\n",
    "       contraseña = contraseña + chr(numero)\n",
    "print(\"Contraseña: \", contraseña)"
   ]
  },
  {
   "cell_type": "code",
   "execution_count": null,
   "id": "bb39cd5c-bec7-4d69-a9c0-54823204d9e8",
   "metadata": {},
   "outputs": [],
   "source": [
    "# Librerias que te traen el abecedario\n",
    "import string\n",
    "import random\n",
    "print(string.ascii_uppercase)\n",
    "# Te selecciona una letra\n",
    "print(random.choice(string.ascii_uppercase))\n"
   ]
  }
 ],
 "metadata": {
  "kernelspec": {
   "display_name": "Python 3 (ipykernel)",
   "language": "python",
   "name": "python3"
  },
  "language_info": {
   "codemirror_mode": {
    "name": "ipython",
    "version": 3
   },
   "file_extension": ".py",
   "mimetype": "text/x-python",
   "name": "python",
   "nbconvert_exporter": "python",
   "pygments_lexer": "ipython3",
   "version": "3.12.4"
  }
 },
 "nbformat": 4,
 "nbformat_minor": 5
}
