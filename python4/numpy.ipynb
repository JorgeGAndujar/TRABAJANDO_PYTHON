{
 "cells": [
  {
   "cell_type": "markdown",
   "id": "a00100fc-ae58-4a64-bda4-63feb3d459d4",
   "metadata": {},
   "source": [
    "<center><span style=\"color:red; font-size:30px\">NUMPY</span></center>"
   ]
  },
  {
   "cell_type": "markdown",
   "id": "435fff27-9d56-4700-b9ee-75757680b49e",
   "metadata": {},
   "source": [
    "<span style=\"color:blue; font-size:15px\">EJEMPLO 1</span><br>\n"
   ]
  },
  {
   "cell_type": "code",
   "execution_count": 11,
   "id": "b2a4af0d-27d4-467d-9b99-26b033a51f0b",
   "metadata": {},
   "outputs": [
    {
     "name": "stdout",
     "output_type": "stream",
     "text": [
      "[12 15 18]\n",
      "Media:  5.0\n",
      "Mediana:  5.0\n",
      "Varianza:  6.666666666666667\n",
      "Varianza Estándar:  2.581988897471611\n"
     ]
    }
   ],
   "source": [
    "# FORMA 1 ---> con librería numpy\n",
    "import numpy as np\n",
    "matriz = np.array([\n",
    "    [1,2,3],\n",
    "    [4,5,6],\n",
    "    [7,8,9]\n",
    "])\n",
    "#sin usar libreria\n",
    "matriz1 = [\n",
    "    [1,2,3],\n",
    "    [4,5,6],\n",
    "    [7,8,9]\n",
    "]\n",
    "# USAR FUNCIONES NUMPY\n",
    "matriz = np.array(matriz1)\n",
    "\n",
    "suma_columnas = np.sum(matriz, axis=0) # axis 0 --> columna, axis 1 --> fila   =>axis 0 PARA columnas \n",
    "print(suma_columnas)\n",
    "\n",
    "suma_filas = np.sum(matriz, axis=1) #  columna 0, axis 1 --> fila,\n",
    "\n",
    "print(\"Media: \", np.mean(matriz))\n",
    "print(\"Mediana: \", np.median(matriz))\n",
    "print(\"Varianza: \", np.var(matriz))\n",
    "print(\"Varianza Estándar: \", np.std(matriz))"
   ]
  },
  {
   "cell_type": "markdown",
   "id": "d801f18b-9c7e-4db8-b4e3-3addcf56dcc0",
   "metadata": {},
   "source": [
    "<span style=\"color:blue; font-size:15px\">EJEMPLO 2</span><br>\n",
    "Dado una matriz sobre los ingresos de la ciudades en 4 trimestres. Obtener el ingreso anual de cada ciudad."
   ]
  },
  {
   "cell_type": "code",
   "execution_count": 226,
   "id": "b5fbb5f3-d22d-4cdd-a1e6-e17939189201",
   "metadata": {},
   "outputs": [
    {
     "name": "stdout",
     "output_type": "stream",
     "text": [
      "[61570 77803 56555 69322 58078 83113]\n",
      "\n",
      "[100021 101400  98678 106342]\n",
      "\n",
      "INGRESOS POR CIUDAD\n",
      "-------------------\n",
      "MUNICH        :    61570\n",
      "BOWN          :    77803\n",
      "BRUSELAS      :    56555\n",
      "LONDRES       :    69322\n",
      "PEKÍN         :    58078\n",
      "LOS ÁNGELES   :    83113\n",
      "\n",
      "INGRESOS POR TRIMESTE\n",
      "---------------------\n",
      "TRIMESTRE 1   :   100021\n",
      "TRIMESTRE 2   :   101400\n",
      "TRIMESTRE 3   :    98678\n",
      "TRIMESTRE 4   :   106342\n",
      "\n",
      "+---------------------+---------------+---------------+---------------+---------------+----------------+\n",
      "| CIUDAD              |   TRIMESTRE 1 |   TRIMESTRE 2 |   TRIMESTRE 3 |   TRIMESTRE 4 |   TOTAL CIUDAD |\n",
      "+=====================+===============+===============+===============+===============+================+\n",
      "| MUNICH              |         15600 |         17000 |         12120 |         16850 |          61570 |\n",
      "+---------------------+---------------+---------------+---------------+---------------+----------------+\n",
      "| BOWN                |         20650 |         18787 |         18741 |         19625 |          77803 |\n",
      "+---------------------+---------------+---------------+---------------+---------------+----------------+\n",
      "| BRUSELAS            |         12565 |         13540 |         17563 |         12887 |          56555 |\n",
      "+---------------------+---------------+---------------+---------------+---------------+----------------+\n",
      "| LONDRES             |         18757 |         17855 |         13555 |         19155 |          69322 |\n",
      "+---------------------+---------------+---------------+---------------+---------------+----------------+\n",
      "| PEKÍN               |         11851 |         13668 |         15499 |         17060 |          58078 |\n",
      "+---------------------+---------------+---------------+---------------+---------------+----------------+\n",
      "| LOS ÁNGELES         |         20598 |         20550 |         21200 |         20765 |          83113 |\n",
      "+---------------------+---------------+---------------+---------------+---------------+----------------+\n",
      "| TOTAL POR TRIMESTRE |        100021 |        101400 |         98678 |        106342 |         406441 |\n",
      "+---------------------+---------------+---------------+---------------+---------------+----------------+\n"
     ]
    },
    {
     "data": {
      "image/png": "[encoded data removed]",
      "text/plain": [
       "<Figure size 1000x600 with 1 Axes>"
      ]
     },
     "metadata": {},
     "output_type": "display_data"
    },
    {
     "name": "stdout",
     "output_type": "stream",
     "text": [
      "\n",
      "\n",
      " -------------------------------------------------------------------------------------- \n",
      "|  Ciudades           |MUNICH | BOWN | BRUSELAS | LONDRES | PEKÍN | LOS ÁNGELES | Total por Trimestre |                    |\n",
      " ---------------------------------------------------------------------------------------------\n",
      "|TRIMESTRE 1:         | 15600 |20650 |  12565   |  18757  | 11851 |20598        | 100021              |  \n",
      " ---------------------------------------------------------------------------------------------\n",
      "|TRIMESTRE 2:         | 18787 |13540 |  13540   |  17855  | 13668 |20550        | 101400              |  \n",
      " ---------------------------------------------------------------------------------------------\n",
      "|TRIMESTRE 3:         | 17563 |18741 |  17563   |  13555  | 15499 |21200        | 98678               |  \n",
      " ---------------------------------------------------------------------------------------------\n",
      "|TRIMESTRE 4:         | 19155 |19625 |  12887   |  19155  | 17060 |20765        | 106342              |   \n",
      " ---------------------------------------------------------------------------------------------\n",
      "|TOTAL POR CIUDAD     | 61570 |77803 |  56555   |  69322  | 58078 |83113        | 406441              | \n",
      " \n"
     ]
    }
   ],
   "source": [
    "import numpy as np\n",
    "import matplotlib.pyplot as plt\n",
    "from tabulate import tabulate\n",
    "nombres_ciudades = [\"MUNICH\", \"BOWN\", \"BRUSELAS\", \"LONDRES\", \"PEKÍN\", \"LOS ÁNGELES\"]\n",
    "nombres_trimestres = [\"TRIMESTRE 1\",\"TRIMESTRE 2\",\"TRIMESTRE 3\",\"TRIMESTRE 4\"]\n",
    "data = np.array([\n",
    "    [15600, 17000, 12120, 16850],\n",
    "    [20650, 18787, 18741, 19625],\n",
    "    [12565, 13540, 17563, 12887],\n",
    "    [18757, 17855, 13555, 19155],\n",
    "    [11851, 13668, 15499, 17060],\n",
    "    [20598, 20550, 21200, 20765]\n",
    "])\n",
    "\n",
    "ingresos_por_ciudad = np.sum(data, axis=1)\n",
    "print(ingresos_por_ciudad)\n",
    "print()\n",
    "ingresos_por_trimestre = np.sum(data, axis=0)\n",
    "print(ingresos_por_trimestre)\n",
    "print()\n",
    "print(\"INGRESOS POR CIUDAD\")\n",
    "print(\"-------------------\")\n",
    "\n",
    "for ciudad, ingreso in zip(nombres_ciudades, ingresos_por_ciudad):\n",
    "    print(\"%-13s : %8d\" % (ciudad, ingreso))\n",
    "print()\n",
    "print(\"INGRESOS POR TRIMESTE\")\n",
    "print(\"---------------------\")\n",
    "\n",
    "for trimestre, ingreso in zip(nombres_trimestres, ingresos_por_trimestre): # zip te permite reecorrer dos vectores a la vez\n",
    "    print(\"%-13s : %8d\" % (trimestre, ingreso))# MOSTRAR EN FORMA DE MATRIZ\n",
    "    tabla = []\n",
    "print()\n",
    "# MOSTRAR EN FORMA DE MATRIZ\n",
    "# Creas un vector tabla vacia que luego recorres y la llenas con un for \n",
    "tabla = []\n",
    "\n",
    "for i, ciudad in enumerate(nombres_ciudades): # enumerate para que sepa la posicion, .tolist() para comnvertir numpy en lista\n",
    "    tabla.append([ciudad] + data[i].tolist() + [ingresos_por_ciudad[i]])\n",
    "tabla.append([\"TOTAL POR TRIMESTRE\"] + ingresos_por_trimestre.tolist() + [sum(ingresos_por_trimestre)])\n",
    "encabezados = [\"CIUDAD\"] + nombres_trimestres + [\"TOTAL CIUDAD\"]\n",
    "print(tabulate(tabla, headers=encabezados, tablefmt=\"grid\"))\n",
    "\n",
    "plt.figure(figsize=(10,6))\n",
    "plt.bar(nombre_ciudades,ingresos_por_ciudad,color=\"lightgreen\")\n",
    "plt.title(\"INGRESOS POR CIUDAD\")\n",
    "plt.xlabel(\"Ciudad\")\n",
    "plt.ylabel(\"Ingresos\")\n",
    "# Cambiar el color de las marcas de los ejes\n",
    "plt.tick_params(axis='x', colors='red') # Color de las marcas en el eje x\n",
    "plt.tick_params(axis='y', colors='black')  # Color de las marcas en el eje y\n",
    "plt.show()\n",
    "# MOSTRAR sin libreria MIHAI\n",
    "\n",
    "print()\n",
    "print(f\"\"\"\n",
    " -------------------------------------------------------------------------------------- \n",
    "|  Ciudades           |{nombres_ciudades[0]} | {nombres_ciudades[1]} | {nombres_ciudades[2]} | {nombres_ciudades[3]} | {nombres_ciudades[4]} | {nombres_ciudades[5]} | Total por Trimestre |                    |\n",
    " ---------------------------------------------------------------------------------------------\n",
    "|{nombres_trimestres[0]}:         | {data[0][0]} |{data[1][0]} |  {data[2][0]}   |  {data[3][0]}  | {data[4][0]} |{data[5][0]}        | {ingresos_por_trimestre[0]}              |  \n",
    " ---------------------------------------------------------------------------------------------\n",
    "|{nombres_trimestres[1]}:         | {data[1][1]} |{data[2][1]} |  {data[2][1]}   |  {data[3][1]}  | {data[4][1]} |{data[5][1]}        | {ingresos_por_trimestre[1]}              |  \n",
    " ---------------------------------------------------------------------------------------------\n",
    "|{nombres_trimestres[2]}:         | {data[2][2]} |{data[1][2]} |  {data[2][2]}   |  {data[3][2]}  | {data[4][2]} |{data[5][2]}        | {ingresos_por_trimestre[2]}               |  \n",
    " ---------------------------------------------------------------------------------------------\n",
    "|{nombres_trimestres[3]}:         | {data[3][3]} |{data[1][3]} |  {data[2][3]}   |  {data[3][3]}  | {data[4][3]} |{data[5][3]}        | {ingresos_por_trimestre[3]}              |   \n",
    " ---------------------------------------------------------------------------------------------\n",
    "|TOTAL POR CIUDAD     | {ingresos_por_ciudad[0]} |{ingresos_por_ciudad[1]} |  {ingresos_por_ciudad[2]}   |  {ingresos_por_ciudad[3]}  | {ingresos_por_ciudad[4]} |{ingresos_por_ciudad[5]}        | {np.sum(ingresos_por_ciudad)}              | \n",
    " \"\"\")\n"
   ]
  },
  {
   "cell_type": "markdown",
   "id": "4904e6c5-6fff-44f1-baf5-d134d7c417e0",
   "metadata": {},
   "source": [
    "<span style=\"color:blue; font-size:15px\">EJEMPLO 3</span><br>\n"
   ]
  },
  {
   "cell_type": "code",
   "execution_count": 232,
   "id": "73f7caa0-8888-46e5-8f3a-ab8be0510d90",
   "metadata": {},
   "outputs": [
    {
     "name": "stdout",
     "output_type": "stream",
     "text": [
      "[20.  47.5]\n",
      "3\n"
     ]
    }
   ],
   "source": [
    "# --------------------------\n",
    "data_python = [\n",
    "   [12, 40, 43, 25, 3, 15],\n",
    "   [35, 60, 70, 55, 12, 40]\n",
    "]\n",
    "data_numpy = np.array(data_python)\n",
    "media = np.median(data_numpy, axis=1)\n",
    "print(media)\n",
    "#------------------------------------\n",
    "# CONDICION\n",
    "condicion = [\"Hijo\",\"Madre\",\"Padre\",\"Hija\",\"Hija\",\"Hija\"]\n",
    "\n",
    "cantidad_hijas = condicion.count(\"Hija\")\n",
    "print(cantidad_hijas)\n"
   ]
  },
  {
   "cell_type": "markdown",
   "id": "16a6c960-0d09-4cc9-8b80-8390a6ec5b43",
   "metadata": {},
   "source": [
    "<span style=\"color:blue; font-size:15px\">EJEMPLO 3 \"FAMILIA\" MIHAI</span><br>"
   ]
  },
  {
   "cell_type": "markdown",
   "id": "45c3822f-14cf-44e3-b148-f1656c6215c5",
   "metadata": {},
   "source": [
    "<span style=\"color:blue; font-size:15px\"><strong>Ejercicio 2</strong></span><br>\n",
    "**Dados estos datos, conseguir los objetivos.**\n",
    "\n",
    "Datos de la familia:\n",
    "Nombre, Condicion, Edad, Sexo, Peso (kg)\n",
    "\n",
    "<list>\n",
    "<ul>Jose: Hijo, 12, H, 35</ul>\n",
    "<ul>Isabel: Madre, 40, M, 60</ul>\n",
    "<ul>Juan: Padre, 43, H, 70</ul>\n",
    "<ul>Maria: Hija, 25, M, 55</ul>\n",
    "<ul>Eva: Hija, 3, M, 12</ul>\n",
    "<ul>Marilu: Hija, 15, M, 40</ul>\n",
    "</list>\n",
    "\n",
    "<p>Objetivos:</p>\n",
    "\n",
    "<ul>Cantidad de Hijas en la familia:</ul>\n",
    "<ul>Promedio de Edad de la familia:</ul>\n",
    "<ul>Cantidad de varones en la familia:</ul>\n",
    "<ul>Cantidad de integrantes de la familia que superan los 40 kilos:</ul>\n",
    "<ul>Mayor edad:</ul>\n",
    "<ul>Menor peso:</ul>"
   ]
  },
  {
   "cell_type": "code",
   "execution_count": 259,
   "id": "318a3382-9a6a-4153-b288-c04416d7d875",
   "metadata": {},
   "outputs": [
    {
     "name": "stdout",
     "output_type": "stream",
     "text": [
      "Cantidad de Hijas en la familia: 3\n",
      "Promedio de Edad en la familia: 23.0 años.\n",
      "Cantidad de varones en la familia: 2\n",
      "Cantidad de integrantes que superan los 40 kilos: 3\n",
      "Mayor de edad: 43\n",
      "Menor peso: 12\n",
      "+----------+-------------+--------+--------+------------+\n",
      "| NOMBRE   | CONDICIÓN   |   EDAD | SEXO   |   PESO(Kg) |\n",
      "+==========+=============+========+========+============+\n",
      "| Jose     | Hijo        |     12 | H      |         35 |\n",
      "+----------+-------------+--------+--------+------------+\n",
      "| Isabel   | Madre       |     40 | M      |         60 |\n",
      "+----------+-------------+--------+--------+------------+\n",
      "| Juan     | Padre       |     43 | H      |         70 |\n",
      "+----------+-------------+--------+--------+------------+\n",
      "| Maria    | Hija        |     25 | M      |         55 |\n",
      "+----------+-------------+--------+--------+------------+\n",
      "| Eva      | Hija        |      3 | M      |         12 |\n",
      "+----------+-------------+--------+--------+------------+\n",
      "| Marilu   | Hija        |     15 | M      |         40 |\n",
      "+----------+-------------+--------+--------+------------+\n",
      "+-----------------------------------------------------------------+-------------+\n",
      "| PREGUNTA                                                        |   RESPUESTA |\n",
      "+=================================================================+=============+\n",
      "| Cantidad de Hijas en la familia                                 |           3 |\n",
      "+-----------------------------------------------------------------+-------------+\n",
      "| Promedio de Edad de la familia                                  |          23 |\n",
      "+-----------------------------------------------------------------+-------------+\n",
      "| Promedio de Pesos de la familia                                 |           2 |\n",
      "+-----------------------------------------------------------------+-------------+\n",
      "| Cantidad de Varones en la familila                              |           3 |\n",
      "+-----------------------------------------------------------------+-------------+\n",
      "| Cantidad de integrantes de la familia que superean los 40 kilos |          43 |\n",
      "+-----------------------------------------------------------------+-------------+\n",
      "| Mayor edad                                                      |          12 |\n",
      "+-----------------------------------------------------------------+-------------+\n"
     ]
    },
    {
     "data": {
      "image/png": "[encoded data removed]",
      "text/plain": [
       "<Figure size 600x600 with 1 Axes>"
      ]
     },
     "metadata": {},
     "output_type": "display_data"
    }
   ],
   "source": [
    "import numpy as np\n",
    "import matplotlib.pyplot as plt\n",
    "\n",
    "nombres = [\"Jose\", \"Isabel\", \"Juan\", \"Maria\", \"Eva\", \"Marilu\"]\n",
    "condicion = [\"Hijo\", \"Madre\", \"Padre\", \"Hija\", \"Hija\", \"Hija\"]\n",
    "edad = [12, 40, 43, 25, 3, 15]\n",
    "sexo = [\"H\", \"M\", \"H\", \"M\", \"M\", \"M\"]\n",
    "peso = [35, 60, 70, 55, 12, 40]\n",
    "\n",
    "nombres_np = np.array(nombres)\n",
    "condicion_np = np.array(condicion)\n",
    "edad_np = np.array(edad)\n",
    "sexo_np = np.array(sexo)\n",
    "peso_np = np.array(peso)\n",
    "\n",
    "#Cantidad Hijas\n",
    "cantidad_hijas = np.sum(condicion_np == \"Hija\")\n",
    "print(\"Cantidad de Hijas en la familia:\", cantidad_hijas)\n",
    "\n",
    "#Promedio de edad de la familia\n",
    "promedio_edad = round(np.mean(edad_np),2) #round: para que muestre la cantidad de decimales\n",
    "print(\"Promedio de Edad en la familia:\", promedio_edad, \"años.\")\n",
    "\n",
    "#Cantidad de varones en la familia\n",
    "cantidad_varones = np.sum(sexo_np == \"H\")\n",
    "print(\"Cantidad de varones en la familia:\", cantidad_varones)\n",
    "\n",
    "#Cantidad de integrantes de la familia peso > 40kg\n",
    "superan_40kg = np.sum(peso_np > 40)\n",
    "print(\"Cantidad de integrantes que superan los 40 kilos:\", superan_40kg)\n",
    "\n",
    "#Mayor edad\n",
    "mayor_edad = np.max(edad_np)\n",
    "print(\"Mayor de edad:\", mayor_edad)\n",
    "\n",
    "#Menor peso\n",
    "menor_peso = np.min(peso_np)\n",
    "print(\"Menor peso:\", menor_peso)\n",
    "\n",
    "# MOSTRAR TABLA FAMILIA\n",
    "familia = []\n",
    "for n, c, e, s, p in zip(nombres,condicion,edad,sexo,peso):\n",
    "    fila = [n,c,e,s,p]\n",
    "    familia.append(fila)\n",
    "encabezados = [\"NOMBRE\",\"CONDICIÓN\",\"EDAD\",\"SEXO\",\"PESO(Kg)\"]\n",
    "print(tabulate(familia, headers=encabezados, tablefmt=\"grid\"))\n",
    "\n",
    "columna1 = [\"Cantidad de Hijas en la familia\",\n",
    "           \"Promedio de Edad de la familia\",\n",
    "           \"Promedio de Pesos de la familia\",\n",
    "           \"Cantidad de Varones en la familila\",\n",
    "           \"Cantidad de integrantes de la familia que superean los 40 kilos\",\n",
    "           \"Mayor edad\",\n",
    "           \"Menor peso\"]\n",
    "columna2 = [cantidad_hijas,promedio_edad,cantidad_varones,superan_40kg,mayor_edad,menor_peso]\n",
    "conclusiones = []\n",
    "for c1,c2 in zip(columna1,columna2):\n",
    "    fila = [c1,c2]\n",
    "    conclusiones.append(fila)\n",
    "encabezados = [\"PREGUNTA\",\"RESPUESTA\"]\n",
    "print(tabulate(conclusiones, headers=encabezados, tablefmt=\"grid\"))\n",
    "# GRAFICAR EDAD FAMILIA\n",
    "import numpy as np\n",
    "import matplotlib.pyplot as plt\n",
    "\n",
    "plt.figure(figsize=(6,6))\n",
    "bars = plt.bar(nombres,edad,color=\"blue\")\n",
    "plt.xlabel(\"Nombre\")\n",
    "plt.ylabel(\"Edad\")\n",
    "plt.bar_label(bars, color=\"red\")\n",
    "plt.grid(True) # muestra una maya\n",
    "# Cambiar el color de las marcas de los ejes\n",
    "plt.tick_params(axis='x', colors='red') # Color de las marcas en el eje x\n",
    "plt.tick_params(axis='y', colors='black')  # Color de las marcas en el eje y\n",
    "plt.show()\n"
   ]
  },
  {
   "cell_type": "code",
   "execution_count": null,
   "id": "57578a5d-2668-4c7b-a14d-676226628db0",
   "metadata": {},
   "outputs": [],
   "source": []
  }
 ],
 "metadata": {
  "kernelspec": {
   "display_name": "Python 3 (ipykernel)",
   "language": "python",
   "name": "python3"
  },
  "language_info": {
   "codemirror_mode": {
    "name": "ipython",
    "version": 3
   },
   "file_extension": ".py",
   "mimetype": "text/x-python",
   "name": "python",
   "nbconvert_exporter": "python",
   "pygments_lexer": "ipython3",
   "version": "3.12.4"
  }
 },
 "nbformat": 4,
 "nbformat_minor": 5
}
