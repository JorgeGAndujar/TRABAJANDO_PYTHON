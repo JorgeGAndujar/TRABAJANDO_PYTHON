{
 "cells": [
  {
   "cell_type": "markdown",
   "id": "25f63b05-701f-40c9-a889-d84dac5ee1dc",
   "metadata": {},
   "source": [
    "<center><span style=\"color:red; font-size:30px\">ESTRUCTURA CONDICIONAL</span></center>"
   ]
  },
  {
   "cell_type": "markdown",
   "id": "3703aa4d-54d4-4c1d-b4bf-ad18d13ea165",
   "metadata": {},
   "source": [
    "<span style=\"color:blue; font-size:15px\">EJEMPLO 1</span><br>\n",
    "Implementar cada compuerta logica (AND, OR, NOT, NAND, NOR, XOR)con una funcion."
   ]
  },
  {
   "cell_type": "code",
   "execution_count": 5,
   "id": "10ccb875-9218-43ab-84bd-025eedeeac20",
   "metadata": {},
   "outputs": [],
   "source": [
    "# FUNCION AND\n",
    "def and_(a,b):\n",
    "    if a == 1 and b == 1:\n",
    "       return 1\n",
    "    else:\n",
    "       return 0\n",
    "        \n",
    "# FUNCION OR\n",
    "def or_(a,b):\n",
    "    if a == 0 and b == 0:\n",
    "       return 0\n",
    "    else:\n",
    "       return 1\n",
    "        \n",
    "# FUNCION NOT\n",
    "def not_(a):\n",
    "    if a == 0:\n",
    "       return 1\n",
    "    else:\n",
    "       return 0\n",
    "        \n",
    "# FUNCION NAND\n",
    "def nand(x):\n",
    "    return not_(x)\n",
    "\n",
    "# OTRA FORMA DE HACER LA FUNCION NAND\n",
    "def nand(a,b):\n",
    "    return not_(and_(a,b))\n",
    "\n",
    "# FUNCION NOR\n",
    "def nor(a,b):\n",
    "    return not_(or_(a,b))\n",
    "    \n",
    "# FUNCION XOR\n",
    "def xor(a,b):\n",
    "    if a != b:\n",
    "       return 1\n",
    "    else:\n",
    "       return 0      "
   ]
  },
  {
   "cell_type": "markdown",
   "id": "6cf70331-025d-47e3-bd69-4f3ee1890dc4",
   "metadata": {},
   "source": [
    "<span style=\"color:blue; font-size:15px\">EJEMPLO 2</span><br>\n",
    "Implementar un circuito empleando las compuertas logicas del ejemplo 1.\n",
    "![Mi imagen](circuito_compuertas.png)"
   ]
  },
  {
   "cell_type": "code",
   "execution_count": 12,
   "id": "a35610b3-088d-4ed9-aae0-6ed5f3ddbb39",
   "metadata": {},
   "outputs": [
    {
     "name": "stdin",
     "output_type": "stream",
     "text": [
      "Ingresa entrada \"a\"? 1\n",
      "Ingresa entrada \"b\"? 0\n",
      "Ingresa entrada \"c\"? 0\n"
     ]
    },
    {
     "name": "stdout",
     "output_type": "stream",
     "text": [
      "Salida:  1\n",
      "Salida:  1\n"
     ]
    }
   ],
   "source": [
    "a = int(input('Ingresa entrada \"a\"?'))\n",
    "b = int(input('Ingresa entrada \"b\"?'))\n",
    "c = int(input('Ingresa entrada \"c\"?'))\n",
    "s1 = and_(a,b)\n",
    "s2 = nand(a,c)\n",
    "s3 = xor(s1,s2)\n",
    "s4 = not_(s2)\n",
    "s5 = or_(s3,s4)\n",
    "print(\"Salida: \",s5)\n",
    "# HACERLO DE FORMA SEGUIDA---> ANIDAMIENTO DE FUNCIONES\n",
    "s5 = or_(xor(and_(a,b),nand(a,c)),not_(nand(a,c)))\n",
    "print(\"Salida: \",s5)"
   ]
  },
  {
   "cell_type": "code",
   "execution_count": 14,
   "id": "6379c6f7-71f3-4893-882d-b29d2ff4267c",
   "metadata": {},
   "outputs": [
    {
     "name": "stdout",
     "output_type": "stream",
     "text": [
      "  a   b   c    out\n",
      "  0   0   0    1  \n",
      "  0   0   1    1  \n",
      "  0   1   0    1  \n",
      "  0   1   1    1  \n",
      "  1   0   0    1  \n",
      "  1   0   1    1  \n",
      "  1   1   0    0  \n",
      "  1   1   1    1  \n"
     ]
    }
   ],
   "source": [
    "bits = [0,1]\n",
    "print(\"%3s %3s %3s    %-3s\" % (\"a\", \"b\", \"c\",  \"out\"))\n",
    "for a in bits:\n",
    "    for b in bits:\n",
    "        for c in bits:\n",
    "            s = or_(xor(and_(a,b),nand(a,c)),not_(nand(a,c)))\n",
    "            print(\"%3d %3d %3d    %-3d\" % (a, b, c, s))"
   ]
  },
  {
   "cell_type": "code",
   "execution_count": null,
   "id": "b678d30f-0bde-4455-81ed-50fbc562ed23",
   "metadata": {},
   "outputs": [],
   "source": []
  }
 ],
 "metadata": {
  "kernelspec": {
   "display_name": "Python 3 (ipykernel)",
   "language": "python",
   "name": "python3"
  },
  "language_info": {
   "codemirror_mode": {
    "name": "ipython",
    "version": 3
   },
   "file_extension": ".py",
   "mimetype": "text/x-python",
   "name": "python",
   "nbconvert_exporter": "python",
   "pygments_lexer": "ipython3",
   "version": "3.12.4"
  }
 },
 "nbformat": 4,
 "nbformat_minor": 5
}
