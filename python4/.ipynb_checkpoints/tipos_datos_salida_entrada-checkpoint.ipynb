{
 "cells": [
  {
   "cell_type": "markdown",
   "id": "9c117a5c-9a0c-4a15-9414-3e6b19819dce",
   "metadata": {},
   "source": [
    "<center><span style=\"color:red; font-size:30px\">TIPOS DATOS - SALIDA - ENTRADA </span></center>\n"
   ]
  },
  {
   "cell_type": "code",
   "execution_count": 7,
   "id": "830c0159-673c-4617-8faa-859ecec36409",
   "metadata": {},
   "outputs": [
    {
     "name": "stdout",
     "output_type": "stream",
     "text": [
      "idAlumno:  <class 'str'>\n",
      "nombre:  <class 'str'>\n",
      "edad:  <class 'int'>\n",
      "estatura:  <class 'float'>\n",
      "casado:  <class 'bool'>\n",
      "sexo:  <class 'str'>\n",
      "A1;Miguel;23;1.72;True;H\n",
      "A1 Miguel 23 1.72 True H "
     ]
    }
   ],
   "source": [
    "idAlumno = \"A1\"\n",
    "nombre = \"Miguel\"\n",
    "edad = 23\n",
    "estatura = 1.72\n",
    "casado = True\n",
    "sexo = \"H\"\n",
    "print(\"idAlumno: \", type(idAlumno))\n",
    "print(\"nombre: \", type(nombre))\n",
    "print(\"edad: \", type(edad))\n",
    "print(\"estatura: \", type(estatura))\n",
    "print(\"casado: \", type(casado))\n",
    "print(\"sexo: \", type(sexo))\n",
    "# AL UNIR TODAS LAS PARTES TIENEN QUE SER CADENAS --> str(*)\n",
    "unir = idAlumno + \";\" + nombre + \";\" + str(edad) + \";\" + str(estatura) + \";\" + str(casado) + \";\" + sexo\n",
    "print(unir)\n",
    "# .split SEPARA \n",
    "partes = unir.split(\";\")\n",
    "for elemento in partes:\n",
    "    print(elemento, end=\" \")"
   ]
  },
  {
   "cell_type": "code",
   "execution_count": 9,
   "id": "c6381a1f-4fd2-47b2-9f39-c6ec569ad300",
   "metadata": {},
   "outputs": [
    {
     "name": "stdout",
     "output_type": "stream",
     "text": [
      "IDALUMNO     NOMBRE     EDAD  ESTATURA   CASADO     SEXO \n",
      "--------     ------     ----  --------   ------     ---- \n",
      "A1           Miguel     23    1.72       True       H    \n"
     ]
    }
   ],
   "source": [
    "print(\"%-12s %-10s %-5s %-10s %-10s %-5s\" % ('IDALUMNO', 'NOMBRE', 'EDAD', 'ESTATURA', 'CASADO', 'SEXO'))\n",
    "print(\"%-12s %-10s %-5s %-10s %-10s %-5s\" % ('--------', '------', '----', '--------', '------', '----'))\n",
    "print(\"%-12s %-10s %-5d %-10.2f %-10s %-5s\" % (idAlumno, nombre, edad, estatura, casado, sexo))"
   ]
  },
  {
   "cell_type": "code",
   "execution_count": 13,
   "id": "acab5e6a-093e-4fbe-8afd-f99094e0743c",
   "metadata": {},
   "outputs": [
    {
     "name": "stdout",
     "output_type": "stream",
     "text": [
      "idAlumno:A1 nombre:Miguel edad:23 estatura:1.72 casado:True sexo:H\n"
     ]
    }
   ],
   "source": [
    "# MOSTRAR CON FORMATO\n",
    "print(f\"idAlumno:{idAlumno} nombre:{nombre} edad:{edad} estatura:{estatura} casado:{casado} sexo:{sexo}\")"
   ]
  },
  {
   "cell_type": "code",
   "execution_count": 15,
   "id": "911305b5-d43f-4c1d-8990-a64c81180484",
   "metadata": {},
   "outputs": [
    {
     "name": "stdout",
     "output_type": "stream",
     "text": [
      "idAlumno: A1  nombre:  Miguel  edad:  23  estatura:  1.72  casado:  True  sexo:  H\n"
     ]
    }
   ],
   "source": [
    "# MOSTRAR CON COMILLAS\n",
    "print(\"idAlumno:\", idAlumno, \" nombre: \", nombre, \" edad: \", edad, \" estatura: \", estatura, \" casado: \", casado, \" sexo: \", sexo)"
   ]
  },
  {
   "cell_type": "code",
   "execution_count": 17,
   "id": "f2a5d841-41fe-4721-b5e9-b13834cec421",
   "metadata": {},
   "outputs": [
    {
     "name": "stdout",
     "output_type": "stream",
     "text": [
      "\n",
      "idAlumno: A1\n",
      "nombre  : Miguel\n",
      "edad    : 23\n",
      "estatura: 1.72\n",
      "casado  : True\n",
      "sexo    : H\n",
      "\n"
     ]
    }
   ],
   "source": [
    "# MOSTRAR POR COLUMNA\n",
    "print(f\"\"\"\n",
    "idAlumno: {idAlumno}\n",
    "nombre  : {nombre}\n",
    "edad    : {edad}\n",
    "estatura: {estatura}\n",
    "casado  : {casado}\n",
    "sexo    : {sexo}\n",
    "\"\"\")"
   ]
  },
  {
   "cell_type": "code",
   "execution_count": 29,
   "id": "6cc36108-df65-4f25-b24a-fad456639804",
   "metadata": {},
   "outputs": [
    {
     "name": "stdin",
     "output_type": "stream",
     "text": [
      "Ingresar un entero? 1\n",
      "Ingresa un punto flotante? 1.1\n",
      "Ingrese un lógico? True\n"
     ]
    },
    {
     "name": "stdout",
     "output_type": "stream",
     "text": [
      "<class 'bool'>\n"
     ]
    },
    {
     "name": "stdin",
     "output_type": "stream",
     "text": [
      "Ingrese un lógico? True\n"
     ]
    },
    {
     "name": "stdout",
     "output_type": "stream",
     "text": [
      "Lógico:  <class 'bool'> True\n"
     ]
    }
   ],
   "source": [
    "# INGRESAR:\n",
    "entero = int(input(\"Ingresar un entero?\"))\n",
    "punto_flotante = float(input(\"Ingresa un punto flotante?\"))\n",
    "# TE LO TOMA COMO CADENA bool mayor o igual 1 = True SINO bool = 0 o vacio ---> False || pero SIEMPRE te lo devuelve como cadena\n",
    "logico = bool(input(\"Ingrese un lógico?\")) # True, False\n",
    "# CON UNA FUNCION EL VALOR LÓGICO PARA QUE TE SALGA EL VALOR BOOL---> BOOLEANO(True|False)\n",
    "import re\n",
    "def entradaLogico():\n",
    "    patron = \"True|False\"\n",
    "    logico = True\n",
    "    while True:\n",
    "          logico = input(\"Ingrese un lógico?\")\n",
    "          correcto = re.fullmatch(patron, logico)\n",
    "          if not correcto:\n",
    "             print(\"Solo debe ingresar True o False\")\n",
    "          else:\n",
    "             break\n",
    "    return True if logico == \"True\" else False\n",
    "logico = entradaLogico()\n",
    "print(\"Lógico: \", type(logico), logico)"
   ]
  },
  {
   "cell_type": "code",
   "execution_count": null,
   "id": "242e805d-f17b-4db2-a172-0cfacd8fd2d7",
   "metadata": {},
   "outputs": [],
   "source": []
  }
 ],
 "metadata": {
  "kernelspec": {
   "display_name": "Python 3 (ipykernel)",
   "language": "python",
   "name": "python3"
  },
  "language_info": {
   "codemirror_mode": {
    "name": "ipython",
    "version": 3
   },
   "file_extension": ".py",
   "mimetype": "text/x-python",
   "name": "python",
   "nbconvert_exporter": "python",
   "pygments_lexer": "ipython3",
   "version": "3.12.4"
  }
 },
 "nbformat": 4,
 "nbformat_minor": 5
}
