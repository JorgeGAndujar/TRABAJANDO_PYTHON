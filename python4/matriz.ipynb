{
 "cells": [
  {
   "cell_type": "markdown",
   "id": "b82e0724-a96d-4e5f-8b45-a12e0dd2f386",
   "metadata": {},
   "source": [
    "<center><span style=\"color:red; font-size:30px\">MATRIZ</span></center>"
   ]
  },
  {
   "cell_type": "markdown",
   "id": "5e839508-82f3-44a5-8de6-24c097a642dc",
   "metadata": {},
   "source": [
    "<span style=\"color:blue; font-size:15px\">EJEMPLO 1</span><br>\n",
    "LLENAR UNA MATRIZ DESDE EL TECLADO\n",
    "<pre>\n",
    "[\n",
    "[1,2,3],\n",
    "[4,5,6],\n",
    "[7,8,9]\n",
    "]\n",
    "</pre>"
   ]
  },
  {
   "cell_type": "code",
   "execution_count": 10,
   "id": "b34eaa31-570f-41fc-8dba-8ca779af74c8",
   "metadata": {},
   "outputs": [
    {
     "name": "stdout",
     "output_type": "stream",
     "text": [
      "LLENAR MATRIZ\n",
      "-------------\n",
      "\n"
     ]
    },
    {
     "name": "stdin",
     "output_type": "stream",
     "text": [
      "Ingresar el numero de filas? 3\n",
      "Ingresar el numero de columnas? 3\n",
      "Ingresa el valor en la posición [0][0] ? 1\n",
      "Ingresa el valor en la posición [0][1] ? 2\n",
      "Ingresa el valor en la posición [0][2] ? 3\n",
      "Ingresa el valor en la posición [1][0] ? 4\n",
      "Ingresa el valor en la posición [1][1] ? 5\n",
      "Ingresa el valor en la posición [1][2] ? 6\n",
      "Ingresa el valor en la posición [2][0] ? 7\n",
      "Ingresa el valor en la posición [2][1] ? 8\n",
      "Ingresa el valor en la posición [2][2] ? 9\n"
     ]
    },
    {
     "name": "stdout",
     "output_type": "stream",
     "text": [
      "\n",
      "RECORRER LA MATRIZ\n",
      "------------------\n",
      "\n",
      "FORMA 1\n",
      "\n",
      "Posicion[0][0] = 1\n",
      "Posicion[0][1] = 2\n",
      "Posicion[0][2] = 3\n",
      "Posicion[1][0] = 4\n",
      "Posicion[1][1] = 5\n",
      "Posicion[1][2] = 6\n",
      "Posicion[2][0] = 7\n",
      "Posicion[2][1] = 8\n",
      "Posicion[2][2] = 9\n",
      "\n",
      "FORMA 2\n",
      "\n",
      "   1    2    3 \n",
      "   4    5    6 \n",
      "   7    8    9 \n"
     ]
    }
   ],
   "source": [
    "# Llenar una matriz\n",
    "print(\"LLENAR MATRIZ\")\n",
    "print(\"-------------\\n\")\n",
    "filas = int(input(\"Ingresar el numero de filas?\"))\n",
    "columnas = int(input(\"Ingresar el numero de columnas?\"))\n",
    "matriz = []\n",
    "for i in range(filas): # 0 1 2 ...\n",
    "    fila = []\n",
    "    for j in range(columnas): # 0 1 2 ...\n",
    "        valor = int(input(f\"Ingresa el valor en la posición [{i}][{j}] ?\"))\n",
    "        fila.append(valor)\n",
    "    matriz.append(fila)\n",
    "# RECORRER LA MATRIZ\n",
    "print()\n",
    "print(\"RECORRER LA MATRIZ\")\n",
    "print(\"------------------\\n\")\n",
    "print(\"FORMA 1\\n\")\n",
    "for i in range(filas):\n",
    "    for j in range(columnas):\n",
    "        print(f'Posicion[{i}][{j}] = {matriz[i][j]}')\n",
    "print()\n",
    "print(\"FORMA 2\") \n",
    "print()\n",
    "for i in range(filas):\n",
    "    for j in range(columnas):\n",
    "        print(\"%4d \" % (matriz[i][j]), end=\"\")\n",
    "    print()"
   ]
  },
  {
   "cell_type": "code",
   "execution_count": null,
   "id": "18486f79-63c3-40bc-822c-d9d208714e10",
   "metadata": {},
   "outputs": [],
   "source": []
  }
 ],
 "metadata": {
  "kernelspec": {
   "display_name": "Python 3 (ipykernel)",
   "language": "python",
   "name": "python3"
  },
  "language_info": {
   "codemirror_mode": {
    "name": "ipython",
    "version": 3
   },
   "file_extension": ".py",
   "mimetype": "text/x-python",
   "name": "python",
   "nbconvert_exporter": "python",
   "pygments_lexer": "ipython3",
   "version": "3.12.4"
  }
 },
 "nbformat": 4,
 "nbformat_minor": 5
}
