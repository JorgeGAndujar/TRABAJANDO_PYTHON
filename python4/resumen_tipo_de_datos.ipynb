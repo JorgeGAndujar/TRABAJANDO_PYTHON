{
 "cells": [
  {
   "cell_type": "markdown",
   "id": "fb0c49ae-5874-438c-975b-f66f23a7cefd",
   "metadata": {},
   "source": [
    "<center><span style=\"color:red; font-size:30px\">TIPOS DE DATOS</span></center>"
   ]
  },
  {
   "cell_type": "code",
   "execution_count": null,
   "id": "a0c74a6f-7779-400c-ae42-81cd8e5a13ac",
   "metadata": {},
   "outputs": [],
   "source": [
    " x = 5\n",
    "type(x)"
   ]
  },
  {
   "cell_type": "code",
   "execution_count": null,
   "id": "6b353eb5-3750-4db7-843e-bf5320949bc6",
   "metadata": {},
   "outputs": [],
   "source": [
    "x = 1.7\n",
    "type(x)"
   ]
  },
  {
   "cell_type": "code",
   "execution_count": null,
   "id": "180a6b54-7467-4eff-9703-0b2a52a78a0d",
   "metadata": {},
   "outputs": [],
   "source": [
    "x = \"Hola\"\n",
    "type(x)\n"
   ]
  },
  {
   "cell_type": "code",
   "execution_count": null,
   "id": "959ae17a-95ff-47bf-b66e-4fb0a6175669",
   "metadata": {},
   "outputs": [],
   "source": [
    "x = True\n",
    "type(x)"
   ]
  },
  {
   "cell_type": "code",
   "execution_count": null,
   "id": "88fbef42-aae8-4f8d-93cb-82e3e847466e",
   "metadata": {},
   "outputs": [],
   "source": [
    "int, float, str, bool, None\n",
    "\n",
    "x = \"5\"\n",
    "type(x), #str\n",
    "x = int(x) # para hacer conversion a numero entero\n",
    "type(x) #int\n",
    "x = bool(x)\n",
    "type(x) #False = 0 \" \",[]; True: 5,22 2 \"sfdt\" [2,3,4] \n",
    "\n",
    "x = None # no  tiene valor ni tipo\n",
    "print(type(x))"
   ]
  },
  {
   "cell_type": "code",
   "execution_count": null,
   "id": "520f003f-3e6f-4767-a0e1-7b50634ff9de",
   "metadata": {},
   "outputs": [],
   "source": [
    "x = 3 + 7j # tipo de dato complex\n",
    "type(x)"
   ]
  },
  {
   "cell_type": "code",
   "execution_count": null,
   "id": "6d3b5bd8-3b4e-48a0-ad1f-1b64c55c201d",
   "metadata": {},
   "outputs": [],
   "source": [
    "# LISTA, TUPLA, SET, DICCIONARIO\n",
    "\n",
    "lista = [1,2,3]\n",
    "diccionario = {\"nombre\": \"Luis\", \"edad\": 23} # clave (etiqueta) valor (resultado)\n",
    "tuple = (1,2,3)\n",
    "conjunto = {1,2,3}\n",
    "\n",
    "print(type(lista))\n",
    "print(type(diccionario))\n",
    "print(type(tuple))\n",
    "print(type(conjunto))"
   ]
  },
  {
   "cell_type": "code",
   "execution_count": null,
   "id": "e36c895b-1b1f-4d1d-8efd-1694ec2f1a41",
   "metadata": {},
   "outputs": [],
   "source": [
    "x = []\n",
    "x.append(1)\n",
    "x.append(3)\n",
    "x.append(\"hola\")\n",
    "x.append(2.3)\n",
    "diccionario = {\"nombre\": \"Luis\", \"edad\": 23}\n",
    "x.append({\"nombre\": \"Luis\", \"edad\": 23})\n",
    "x.append(diccionario)\n",
    "x.append([5,7,\"Hola\"])\n",
    "\n",
    "print(x)\n",
    "print(type(x))\n",
    "lista = x[5] # -1 siempre representa el ultimo de la lista\n",
    "for elemento in lista:\n",
    "    print(elemento)\n",
    "print(x[-2])\n",
    "del x[-2]\n",
    "print(x)\n"
   ]
  },
  {
   "cell_type": "code",
   "execution_count": null,
   "id": "837827cd-f0ed-4d96-92b0-ac0e4617ad85",
   "metadata": {},
   "outputs": [],
   "source": [
    "x = (1,2,3)\n",
    "print(x)\n",
    "print(type(x))"
   ]
  },
  {
   "cell_type": "code",
   "execution_count": null,
   "id": "52ce76ac-c80a-4a7c-bb5e-c1a4e56dd54e",
   "metadata": {},
   "outputs": [],
   "source": [
    "x = 1,2,3\n",
    "print(x)\n",
    "print(type(x))"
   ]
  },
  {
   "cell_type": "code",
   "execution_count": null,
   "id": "74eace44-787e-4c90-9e2a-d012f8123e7a",
   "metadata": {},
   "outputs": [],
   "source": [
    "x = 1,2,3,\"hola\",{\"nombre\":\"Luis\"}\n",
    "print(x[4])\n",
    "\n",
    "for elemento in x:\n",
    "    print(elemento, end=\" \")\n",
    "print()\n",
    "for indice in range(len(x)):\n",
    "    print(x[indice],\" \",indice)"
   ]
  },
  {
   "cell_type": "code",
   "execution_count": null,
   "id": "8f1c4e16-d03d-493a-bd2e-d5d96de0aa5e",
   "metadata": {},
   "outputs": [],
   "source": [
    "x = (5,) * 20\n",
    "print(x)"
   ]
  },
  {
   "cell_type": "code",
   "execution_count": null,
   "id": "7046c696-7fd1-4b2d-bb74-0b4a47890442",
   "metadata": {},
   "outputs": [],
   "source": [
    "x = [5] * 20\n",
    "print(x)"
   ]
  },
  {
   "cell_type": "code",
   "execution_count": null,
   "id": "54299e70-29f8-4aff-bbd2-8c3ca31aacae",
   "metadata": {},
   "outputs": [],
   "source": [
    "#DICCIONARIO\n",
    "# Creación de un diccionario\n",
    "persona = {\n",
    "    \"nombre\": \"Ana\",\n",
    "    \"edad\": 30,\n",
    "    \"ciudad\": \"Madrid\"\n",
    "}\n",
    "print(persona)\n",
    "print(persona[\"edad\"]) # se identifican con clave no por indice\n",
    "\n",
    "# Modificar\n",
    "persona[\"edad\"] = 40 # Modificar el valor que guarda la clave (las claves no se modifican)\n",
    "print(persona)\n",
    "\n",
    "# recorrer un diccionario \n",
    "for elemento in persona:\n",
    "    print(persona[elemento])\n",
    "\n",
    "# insertar\n",
    "persona[\"estatura\"] = 1.7\n",
    "print(persona)\n",
    "\n",
    "# eliminar\n",
    "del persona[\"estatura\"]\n",
    "print(persona)\n",
    "\n",
    "x = {1: \"One\", 2: \"Two\", (1,2): \"One, Two\",(\"One\",\"Two\"):(1,2), 1:(1,2,3)} # si se repite una clave(no se puede)se modifica \n",
    "print(x)"
   ]
  },
  {
   "cell_type": "code",
   "execution_count": null,
   "id": "685d4d23-cc5a-4a4b-817a-e00409294959",
   "metadata": {},
   "outputs": [],
   "source": [
    "#CONJUNTOS\n",
    "\n",
    "x = {1,2,3}\n",
    "print(x)\n",
    "print(type(x))\n",
    "\n",
    "y = {}\n",
    "z = set()\n",
    "w = set([1,2,3,4,4,4,4]) # se eliminan los duplicados, se queda unicamente con valores únicos\n",
    "print(w)\n",
    "print(type(w))\n",
    "\n",
    "lista = [\"Luis\",\"Miguel\",\"Carlos\",\"Luis\"] #Lista son corchetes []\n",
    "print(lista)\n",
    "\n",
    "conjunto = set(lista)\n",
    "print(conjunto) # conjuntos son corchetes {}\n",
    "print(list(conjunto))\n",
    "#INSERTAR EN UN CONJUNTO\n",
    "conjunto.add(\"Carla\") # Insertar\n",
    "print(conjunto)\n",
    "#ELIMINAR EN UN CONJUNTO\n",
    "conjunto.remove(\"Carla\")\n",
    "print(conjunto)\n",
    "\n",
    "# RETIRA \"EL PRIMERO\"\n",
    "x = conjunto.pop() # RETIRAS Y LO GUARDAS EN UNA VARIABLE\n",
    "print(x)\n",
    "print(conjunto)"
   ]
  },
  {
   "cell_type": "markdown",
   "id": "83340aeb-2835-42dc-8bf2-3f99361073e7",
   "metadata": {},
   "source": [
    "<span style=\"color:blue; font-size:15px\">EJEMPLO 1</span><br>\n",
    "Dado un conjunto formado por los siguientes elementos {3,8,2,3}, se pide mostrar en pantalla sólo los números pares."
   ]
  },
  {
   "cell_type": "raw",
   "id": "ca0174b2-0faa-47d3-a744-ac1eee311081",
   "metadata": {},
   "source": [
    "conjunto = {3,8,2,3}\n",
    "# Si el conjunto es vacio es False y si tiene elementos es True\n",
    "while conjunto: \n",
    "      x = conjunto.pop()\n",
    "      if x % 2 == 0:\n",
    "          print(x)\n",
    "print(conjunto)"
   ]
  },
  {
   "cell_type": "code",
   "execution_count": null,
   "id": "cf7ca8db-cd0b-465d-b0b0-1d7310ea158c",
   "metadata": {},
   "outputs": [],
   "source": [
    "# QUIERES QUE SE MANTENGAN LOS ELEMENTOS\n",
    "conjunto = {3,8,2,3}\n",
    "# Si el conjunto es vacio es False y si tiene elementos es True\n",
    "for x in conjunto:\n",
    "      if x % 2 == 0:\n",
    "          print(x)\n",
    "print(conjunto)"
   ]
  },
  {
   "cell_type": "code",
   "execution_count": null,
   "id": "6126f6e6-618c-4756-b4ce-3b88620fe2cf",
   "metadata": {},
   "outputs": [],
   "source": [
    "# OPERACIONES SOBRE CONJUNTOS\n",
    "a = {1, 2, 3}\n",
    "b = {2, 3, 4}\n",
    "\n",
    "#UNION\n",
    "\n",
    "union = a | b\n",
    "print(union) # junta los dos conjuntos y se queda con los únicos\n",
    "\n",
    "#INTERSECCIÓN\n",
    "interseccion = a & b\n",
    "print(interseccion)\n",
    "\n",
    "#DIFERENCIAS (SOLO LOS ELEMENTOS QUE PERTENECEN A (A O B))\n",
    "\n",
    "diferencia = a - b\n",
    "print(diferencia)\n",
    "\n",
    "diferencia = b - a\n",
    "print(diferencia)"
   ]
  },
  {
   "cell_type": "markdown",
   "id": "fd274cf7-5ea2-4c3b-89dc-f729c4f00f86",
   "metadata": {},
   "source": [
    "<span style=\"color:blue; font-size:15px\">EJEMPLO 2</span><br>\n",
    "Operadores de pertenecia"
   ]
  },
  {
   "cell_type": "code",
   "execution_count": null,
   "id": "1de59b81-db96-4393-a09b-a9b59ec5b9de",
   "metadata": {},
   "outputs": [],
   "source": [
    "# SI UN ELEMENTO PERTENECE O NO EN UNA COLECCION\n",
    "# in, not in\n",
    "\n",
    "lista = [1,2,3]\n",
    "diccionario = {\"nombre\": \"Luis\", \"edad\": 23} # clave (etiqueta) valor (resultado)\n",
    "tuple = (1,2,3)\n",
    "conjunto = {1,2,3}\n",
    "\n",
    "if 2 in lista:\n",
    "   print(\"Si\")\n",
    "else:\n",
    "   print(\"No\")\n",
    "\n",
    "if 9 in conjunto:\n",
    "   print(\"Si\")\n",
    "else:\n",
    "   print(\"No\")\n",
    "\n",
    "if 2 in tuple:\n",
    "   print(\"Si\")\n",
    "else:\n",
    "   print(\"No\")\n",
    "\n",
    "#EN CASO DE DICCIONARIO(solo es aplicable a la clave)    \n",
    "if \"nombre\" in diccionario:\n",
    "   print(\"Si\")\n",
    "   print(\"nombre\")\n",
    "else:\n",
    "   print(\"No\")\n",
    "\n",
    "if \"estatura\" in diccionario:\n",
    "   print(\"Si\")\n",
    "else:\n",
    "   print(\"No\")\n",
    "   diccionario[\"estatura\"] = 1.72\n",
    "print(diccionario)"
   ]
  },
  {
   "cell_type": "markdown",
   "id": "416ef0ed-a775-4002-a801-cc80b6666cc2",
   "metadata": {},
   "source": [
    "<span style=\"color:blue; font-size:15px\">EJEMPLO 3</span><br>\n",
    "<div class=text-justify>\r",
    "Hacer un programa que guarde en una variable el diccionario {'Euro':'€', 'Dollar':'$', 'Yen':'¥', 'Ruble': '₽'}, que son monedas fiduciarias. Pregunte al usuario por una divisa y muestre su símbolo o un mensaje de aviso si la divisa no está en el diccionario.\r",
    "</div>"
   ]
  },
  {
   "cell_type": "code",
   "execution_count": null,
   "id": "563a948b-d058-4d7d-a56e-bc5d199e2955",
   "metadata": {},
   "outputs": [],
   "source": [
    "print(\"Moneda China \\u00A5\")\n",
    "monedas_d = {'Euro':'€', 'Dollar':'$', 'Yen':'¥', 'Ruble': '₽'}\n",
    "print(\"Ingrese una de las siguientes monedas : \", end=\" \")\n",
    "for clave in monedas_d:\n",
    "    print(clave, end=\" \")\n",
    "moneda_clave = input(\"Ingresar moneda?\")\n",
    "valor = monedas_d.get(moneda_clave, \"La moneda no existe\")\n",
    "print(\"Simbolo: \", valor)"
   ]
  },
  {
   "cell_type": "code",
   "execution_count": null,
   "id": "06ac05da-3814-4140-8266-830ce4a268c6",
   "metadata": {},
   "outputs": [],
   "source": [
    "# OTRA VERSION QUE SINO INGRESAS BIEN TE VUELVE A PREGUNTAR\n",
    "import os\n",
    "monedas_d = {'Euro':'€', 'Dollar':'$', 'Yen':'¥', 'Ruble': '₽'}\n",
    "\n",
    "while True:\n",
    "    os.system(\"cls\") --> para consola\n",
    "    print(\"Ingrese una de las siguientes monedas : \", end=\" \")\n",
    "    for clave in monedas_d:\n",
    "        print(clave, end=\" \")\n",
    "    print()\n",
    "    moneda_clave = input(\"Ingresar moneda?\")\n",
    "    valor = monedas_d.get(moneda_clave)\n",
    "    print(\"Simbolo: \", valor)\n",
    "    # os.system(\"pause\") --> para consola\n",
    "    input(\"Presiona enter para continuar...\")\n",
    "    if valor != None:\n",
    "       break "
   ]
  },
  {
   "cell_type": "markdown",
   "id": "c7e6664e-9fcf-4bdb-ae7d-d8bf3c693afd",
   "metadata": {},
   "source": [
    "<span style=\"color:blue; font-size:15px\">EJEMPLO 4</span>\n",
    "<div class=text-justify>\n",
    "Hacer un programa que guarde en un diccionario los precios de las frutas de la tabla, pregunte al usuario por una fruta, un número de kilos y muestre por pantalla el precio de ese número de kilos de fruta. Si la fruta no está en el diccionario debe mostrar un mensaje informando de ello.\n",
    "</div>\n",
    "\n",
    "<table>\n",
    "  <thead>\n",
    "    <tr>\n",
    "      <th style='text-align: left;'>Fruta</th>\n",
    "      <th>Precio</th>\n",
    "    </tr>\n",
    "  </thead>\n",
    "  <tbody>\n",
    "    <tr>\n",
    "      <td style='text-align: left;'>Plátano</td>\n",
    "      <td>1.35</td>\n",
    "    </tr>\n",
    "    <tr>\n",
    "      <td style='text-align: left;'>Manzana</td>\n",
    "      <td>0.80</td>\n",
    "    </tr>\n",
    "    <tr>\n",
    "      <td style='text-align: left;'>Pera</td>\n",
    "      <td>0.85</td>\n",
    "    </tr>\n",
    "    <tr>\n",
    "      <td style='text-align: left;'>Naranja</td>\n",
    "      <td>0.70</td>\n",
    "    </tr>\n",
    "  </tbody>"
   ]
  },
  {
   "cell_type": "code",
   "execution_count": null,
   "id": "20795ba9-97c0-4b2a-9496-9a1bc589342a",
   "metadata": {},
   "outputs": [],
   "source": [
    "frutas_d = {\"Platano\":1.35,\"Manzana\":0.80,\"Pera\":0.85,\"Naraja\":0.70}\n",
    "while True:\n",
    "   fruta = input(\"Ingrese la fruta que va a comprar?\")\n",
    "   if fruta in frutas_d:\n",
    "       kg = int(input(\"Ingrese los Kilos de la fruta que vas a comprar?\"))\n",
    "       venta = frutas_d[fruta] * kg\n",
    "       print(\"En total se compro: \", venta, \" €\")\n",
    "       print(\"Se compró: \", fruta, \" \",kg, \" Kilos\")\n",
    "       break\n",
    "   else:\n",
    "       print(\"No existe la fruta\")"
   ]
  },
  {
   "cell_type": "markdown",
   "id": "81077ace-8047-4efa-aa1b-200f52bb2e30",
   "metadata": {},
   "source": [
    "<span style=\"color:blue; font-size:15px\">EJEMPLO 4 de forma MIHAI</span>\n",
    "<div class=text-justify>\n",
    "Hacer un programa que guarde en un diccionario los precios de las frutas de la tabla, pregunte al usuario por una fruta, un número de kilos y muestre por pantalla el precio de ese número de kilos de fruta. Si la fruta no está en el diccionario debe mostrar un mensaje informando de ello.\n",
    "</div>\n",
    "\n",
    "<table>\n",
    "  <thead>\n",
    "    <tr>\n",
    "      <th style='text-align: left;'>Fruta</th>\n",
    "      <th>Precio</th>\n",
    "    </tr>\n",
    "  </thead>\n",
    "  <tbody>\n",
    "    <tr>\n",
    "      <td style='text-align: left;'>Plátano</td>\n",
    "      <td>1.35</td>\n",
    "    </tr>\n",
    "    <tr>\n",
    "      <td style='text-align: left;'>Manzana</td>\n",
    "      <td>0.80</td>\n",
    "    </tr>\n",
    "    <tr>\n",
    "      <td style='text-align: left;'>Pera</td>\n",
    "      <td>0.85</td>\n",
    "    </tr>\n",
    "    <tr>\n",
    "      <td style='text-align: left;'>Naranja</td>\n",
    "      <td>0.70</td>\n",
    "    </tr>\n",
    "  </tbody>"
   ]
  },
  {
   "cell_type": "code",
   "execution_count": null,
   "id": "0a94b85e-5dbc-4537-8c99-8b8bf4a13c31",
   "metadata": {},
   "outputs": [],
   "source": [
    "frutas_d = {\"Plátano\": 1.35, \"Manzana\": 0.80, \"Pera\": 0.85, \"Naranja\": 0.70}\n",
    "\n",
    "while True:\n",
    "    print(\"Elije una de las frutas:\", end=\" \")\n",
    "    for frutas in frutas_d:\n",
    "        print(frutas, end=\" \")\n",
    "    fruta = input(\"Ingrese fruta para comprar: \")\n",
    "    if fruta in frutas_d:\n",
    "        cantidad = int(input(\"Ingrese cantidad en kg:\"))\n",
    "        resultado = cantidad * frutas_d[fruta]\n",
    "        print(f\"Precio: {resultado}€ por {cantidad} kilogramos de {fruta}.\")\n",
    "        break\n",
    "    else:\n",
    "        print(\"Fruta no existe.\")\n",
    "        input(\"Presiona Enter para continuar...\")"
   ]
  },
  {
   "cell_type": "markdown",
   "id": "b9bd2a43-b476-475f-953b-1a33ed9d0c02",
   "metadata": {},
   "source": [
    "<center><span style=\"color:red; font-size:30px\">BUCLES</span></center>"
   ]
  },
  {
   "cell_type": "markdown",
   "id": "1e9aa71c-eef4-48f8-b6de-bcb5403f8b24",
   "metadata": {},
   "source": [
    "<span style=\"color:blue; font-size:15px\">EJEMPLO 1</span>\n",
    "WHILE"
   ]
  },
  {
   "cell_type": "code",
   "execution_count": null,
   "id": "b68db063-5b09-40e4-b67e-d71c8f979f99",
   "metadata": {},
   "outputs": [],
   "source": [
    "n = int(input('Ingrese el n para la serie [1...n]?')) \n",
    "i = 1 # INICIO\n",
    "while i <= n: # TEST(inicio)\n",
    "      print(i, end=' ')\n",
    "      i += 1 # INCREMENTO"
   ]
  },
  {
   "cell_type": "markdown",
   "id": "28b8f8de-8b77-428f-9039-4af088800a22",
   "metadata": {},
   "source": [
    "<span style=\"color:blue; font-size:15px\">EJEMPLO 2</span>\n",
    "FOR"
   ]
  },
  {
   "cell_type": "code",
   "execution_count": null,
   "id": "3ba475af-b859-4fc3-9b18-b89c376c34b3",
   "metadata": {},
   "outputs": [],
   "source": [
    "n = int(input('Ingrese el n para la serie [1...n]?'))\n",
    "for i in range(1,n+1,1): # INICIO, TEST(condición,punto de parada), INCREMENTO en la misma sintaxis\n",
    "    print(i, end=' ')"
   ]
  },
  {
   "cell_type": "markdown",
   "id": "ca7dbae9-edaf-492a-8446-79a2a5272149",
   "metadata": {},
   "source": [
    "<span style=\"color:blue; font-size:15px\">EJEMPLO 3</span>\n",
    "DO...WHILE"
   ]
  },
  {
   "cell_type": "code",
   "execution_count": null,
   "id": "e19a01a2-9f41-416c-b473-3b7a4d2a3b0c",
   "metadata": {},
   "outputs": [],
   "source": [
    "# EVALUAR LA ENTRADA\n",
    "while True:\n",
    "       n = int(input('Ingrese el n > 0 para la serie [1...n]?'))\n",
    "       if n > 0:\n",
    "          break\n",
    "       else:\n",
    "          continue \n",
    "# PROCESO\n",
    "i = 1 # INICIO\n",
    "while True:\n",
    "      print(i, end=' ')\n",
    "      i += 1 # INCREMENTO i = i + 1\n",
    "      if i > n: # TEST(final)\n",
    "         break"
   ]
  },
  {
   "cell_type": "markdown",
   "id": "346f7d93-12dc-4685-84fe-af71e3d23ad1",
   "metadata": {},
   "source": [
    "<span style=\"color:blue; font-size:15px\">EJEMPLO 4</span>\n",
    "MOSTRAR LA SERIE DEL ALFABETO ESPAÑOL CON EL WHILE"
   ]
  },
  {
   "cell_type": "code",
   "execution_count": null,
   "id": "fc41c42d-a610-44ff-befb-2b0ba59ba904",
   "metadata": {},
   "outputs": [],
   "source": [
    "n = 90\n",
    "i = 65 # INICIO\n",
    "while i < n+1: # TEST(inicio)\n",
    "      print(chr(i), end=' ')  \n",
    "      if chr(i) == 'N':\n",
    "         print(chr(209), end=' ')\n",
    "      i += 1 # INCREMENTO  "
   ]
  },
  {
   "cell_type": "markdown",
   "id": "c689e12b-6ef2-4ffc-8975-051eb22391a0",
   "metadata": {},
   "source": [
    "<span style=\"color:blue; font-size:15px\">EJEMPLO 5</span>\n",
    "MOSTRAR LA SERIE [1,n] PERO QUE OMITA LOS PARES"
   ]
  },
  {
   "cell_type": "code",
   "execution_count": null,
   "id": "20b3fded-a55b-4290-8e47-7555d0d791a2",
   "metadata": {},
   "outputs": [],
   "source": [
    "n = int(input('Ingrese el n > 0 para la serie [1...n]?'))\n",
    "for i in range(1,n+1,1):\n",
    "    if i % 2 == 0: # % residuo entre 2 es igual a 0 PARES  \n",
    "       continue # evita q los pares se guarden y vuelve al bucle(for)\n",
    "    print(i, end=' ')"
   ]
  },
  {
   "cell_type": "code",
   "execution_count": null,
   "id": "b4785077-de13-41cf-be97-26881fb051eb",
   "metadata": {},
   "outputs": [],
   "source": [
    "# OTRA FORMA CON UN if\n",
    "n = int(input('Ingrese el n > 0 para la serie [1...n]?'))\n",
    "for i in range(1,n+1,1):\n",
    "    if i % 2 != 0:\n",
    "       print(i, end=' ')"
   ]
  },
  {
   "cell_type": "code",
   "execution_count": null,
   "id": "8de71a3a-dbae-4856-aca1-fc2f735d5567",
   "metadata": {},
   "outputs": [],
   "source": [
    "# OTRA FORMA CON UN if pero que incremento vaya de dos en dos, por lo que no muestra los pares\n",
    "n = int(input('Ingrese el n > 0 para la serie [1...n]?'))\n",
    "for i in range(1,n+1,2):\n",
    "    print(i, end=' ')"
   ]
  },
  {
   "cell_type": "markdown",
   "id": "468f0a6d-628f-435a-9abb-f2a04a79a1dd",
   "metadata": {},
   "source": [
    "<span style=\"color:blue; font-size:15px\">EJEMPLO 6</span>\n",
    "MOSTRAR LA SERIE [n,1]  serie en decremento "
   ]
  },
  {
   "cell_type": "code",
   "execution_count": null,
   "id": "f29f5658-e63f-41ac-b004-bb6c7f3b9685",
   "metadata": {},
   "outputs": [],
   "source": [
    "n = int(input('Ingrese n para la serie [n,1]?'))\n",
    "for i in range(n, 0,-1): # INICIO, TEST(compraración), DECREMENTO 10 9 8 7 6 5 4 3 2 1 > 0\n",
    "    print(i, end=' ')"
   ]
  },
  {
   "cell_type": "code",
   "execution_count": null,
   "id": "b1c769af-2611-4467-a641-49d55087cf9f",
   "metadata": {},
   "outputs": [],
   "source": [
    "# Con el WHILE\n",
    "n = int(input('Ingrese n para la serie [n,1]?'))\n",
    "i = n # INICIO\n",
    "while i > 0: #TEST(inicio)\n",
    "      print(i, end=' ')\n",
    "      i -= 1 # DECREMENTO i = i - 1"
   ]
  },
  {
   "cell_type": "markdown",
   "id": "598475bb-cd47-4a90-8945-2eef9f96cc21",
   "metadata": {},
   "source": [
    "<span style=\"color:blue; font-size:15px\">EJEMPLO 7</span>\n",
    "MOSTRAR LOS NUMEROS PRIMOS ENTRE 2 Y 100: 2, 3, 5, 7, 11, 13, 17, 19, 23, 29, 31, 37, 41, 43, 47, 53, 59, 61, 67, 71, 73, 79, 83, 89 y 97"
   ]
  },
  {
   "cell_type": "code",
   "execution_count": 2,
   "id": "fd7d8452-8cbc-455c-8d1c-5fe6167a3f0e",
   "metadata": {},
   "outputs": [
    {
     "name": "stdout",
     "output_type": "stream",
     "text": [
      "2 3 5 7 11 13 17 19 23 29 31 37 41 43 47 53 59 61 67 71 73 79 83 89 97 "
     ]
    }
   ],
   "source": [
    "for i in range(2,101,1): # i = 2\n",
    "    c = 0\n",
    "    for j in range(1,i+1,1): # i = 2/1 2/2 contador: 2 --> primo\n",
    "                             # i = 3/3 3/2 3/3\n",
    "                             # i = 4/4 4/3 4/2 4/1 contador: 3 --> NO PRIMO\n",
    "        if i % j == 0:\n",
    "           c += 1\n",
    "    if c == 2:\n",
    "       print(i, end=' ')"
   ]
  },
  {
   "cell_type": "code",
   "execution_count": 10,
   "id": "238f7a3b-3c05-4ee5-ae06-80c6d5ee328c",
   "metadata": {},
   "outputs": [
    {
     "name": "stdout",
     "output_type": "stream",
     "text": [
      "2 3 5 7 11 13 17 19 23 29 31 37 41 43 47 53 59 61 67 71 73 79 83 89 97 "
     ]
    }
   ],
   "source": [
    "#  OTRA FORMA \n",
    "for i in range(2,101,1): # i = 2\n",
    "    for j in range(2,i+1,1): # i = 2/1 2/2 contador: 2 --> primo\n",
    "                             # i = 3/3 3/2 3/3\n",
    "                             # i = 4/4 4/3 4/2 4/1 contador: 3 --> NO PRIMO\n",
    "        if i % j == 0:\n",
    "           break\n",
    "    if i == j:\n",
    "       print(i, end=' ')"
   ]
  },
  {
   "cell_type": "code",
   "execution_count": 16,
   "id": "59038994-4291-4a5c-a187-18c447d491d1",
   "metadata": {},
   "outputs": [
    {
     "name": "stdout",
     "output_type": "stream",
     "text": [
      "2 3 5 7 11 13 17 19 23 29 31 37 41 43 47 53 59 61 67 71 73 79 83 89 97 "
     ]
    }
   ],
   "source": [
    "# OTRA FORMA\n",
    "for num in range(2,101,1):\n",
    "    primo = True\n",
    "    for i in range(2,int(num**0.5)+1):\n",
    "        if num % i == 0:\n",
    "           primo = False\n",
    "           break\n",
    "    if primo:\n",
    "       print(num, end=' ')\n",
    "    "
   ]
  },
  {
   "cell_type": "markdown",
   "id": "dbf1f8ff-a796-4b60-ad3d-c57959205242",
   "metadata": {},
   "source": [
    "--------------------------------------------------------------------------"
   ]
  },
  {
   "cell_type": "code",
   "execution_count": null,
   "id": "86a90cdf-fe70-4482-9f7b-8da73286332e",
   "metadata": {},
   "outputs": [],
   "source": []
  }
 ],
 "metadata": {
  "kernelspec": {
   "display_name": "Python 3 (ipykernel)",
   "language": "python",
   "name": "python3"
  },
  "language_info": {
   "codemirror_mode": {
    "name": "ipython",
    "version": 3
   },
   "file_extension": ".py",
   "mimetype": "text/x-python",
   "name": "python",
   "nbconvert_exporter": "python",
   "pygments_lexer": "ipython3",
   "version": "3.12.4"
  }
 },
 "nbformat": 4,
 "nbformat_minor": 5
}
