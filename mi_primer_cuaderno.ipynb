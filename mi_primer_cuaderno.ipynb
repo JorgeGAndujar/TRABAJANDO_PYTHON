{
 "cells": [
  {
   "cell_type": "markdown",
   "id": "e762026d-9d44-4e29-9dd9-7c8b42953366",
   "metadata": {},
   "source": [
    "<font color=red>\n",
    "    <h1>EJERCICIOS PYTHON</h1>\n",
    "</font>"
   ]
  },
  {
   "cell_type": "markdown",
   "id": "08c526f5-2427-441e-9530-5a58496a0f25",
   "metadata": {},
   "source": [
    "#### EJERCICIO 1: PROGAMA EN PYTHON SUMAR DOS NUMEROS"
   ]
  },
  {
   "cell_type": "code",
   "execution_count": 8,
   "id": "8aca8454-62db-4470-b57a-eb3401074f28",
   "metadata": {},
   "outputs": [],
   "source": [
    "def sumar(n1, n2):\n",
    "    r = n1 + n2\n",
    "    return r"
   ]
  },
  {
   "cell_type": "code",
   "execution_count": 10,
   "id": "12317062-5ab5-4669-844f-61a8cbb88beb",
   "metadata": {},
   "outputs": [
    {
     "name": "stdin",
     "output_type": "stream",
     "text": [
      "Ingrese número 1? 4.3\n",
      "Ingrede número 2? 4.5\n"
     ]
    },
    {
     "name": "stdout",
     "output_type": "stream",
     "text": [
      "Sumar:  8.8\n"
     ]
    }
   ],
   "source": [
    " # ENRADA \n",
    "n1 = float(input(\"Ingrese número 1?\"))\n",
    "n2 = float(input(\"Ingrede número 2?\"))\n",
    "# PROCESO\n",
    "suma = sumar(n1,n2)\n",
    "# SALIDA\n",
    "print(\"Sumar: \", suma)"
   ]
  },
  {
   "cell_type": "code",
   "execution_count": null,
   "id": "e1726a80-a22a-4b10-ab5a-d06f7cac324c",
   "metadata": {},
   "outputs": [],
   "source": [
    "#### PROGAMA EN PYTHON EVALUAR UN NUMERO"
   ]
  },
  {
   "cell_type": "code",
   "execution_count": 12,
   "id": "adbba062-4832-46f6-b359-c99c6901e15f",
   "metadata": {},
   "outputs": [
    {
     "name": "stdin",
     "output_type": "stream",
     "text": [
      "Ingrese un número -10\n"
     ]
    },
    {
     "name": "stdout",
     "output_type": "stream",
     "text": [
      "Negativo\n"
     ]
    }
   ],
   "source": [
    "# ENTRADA\n",
    "numero = int(input(\"Ingrese un número\"))\n",
    "# PROCESAR\n",
    "if numero > 0:\n",
    "    print(\"Positivo\")\n",
    "else: \n",
    "    print(\"Negativo\")"
   ]
  },
  {
   "cell_type": "markdown",
   "id": "0ba0e62a-98c8-49ba-87b2-2e4184d5d084",
   "metadata": {},
   "source": [
    "<p align=\"center\">\r",
    "  <a href=\"http://www.youtube.com/watch?feature=player_embedded&v=XOEN9W05_4A\r",
    "\" target=\"_blank\"><img src=\"http://img.youtube.com/vi/XOEN9W05_4A/0.jpg\" \r",
    "alt=\"Video of the experiment\" width=\"400\" height=\"300\" border=\"10\" /></a>\r",
    "  <a href=\"https://youtu.be/XOEN9W05_4A\"><center>[Ver vídeo]</center></a>\r",
    "</p>"
   ]
  },
  {
   "cell_type": "markdown",
   "id": "4443e112-740c-43f4-818f-6d9d0ec633b2",
   "metadata": {},
   "source": [
    "#### EJERCICIO 2: HACER UN PROGRAMA EN PYTHON QUE RESUELVA LA SIGUIENTE ECUACIÓN:\n",
    "$\\begin{equation}\r",
    "p(x) = \\sqrt{x}\r",
    "\\end{equation}$"
   ]
  },
  {
   "cell_type": "code",
   "execution_count": 19,
   "id": "fc833527-bb59-48b4-8ae2-da36af6ac468",
   "metadata": {},
   "outputs": [
    {
     "name": "stdin",
     "output_type": "stream",
     "text": [
      "Ingresa número? 5\n"
     ]
    },
    {
     "name": "stdout",
     "output_type": "stream",
     "text": [
      "Y:  2.23606797749979\n"
     ]
    }
   ],
   "source": [
    "#ENTRADA\n",
    "x = float(input(\"Ingresa número?\"))\n",
    "# PROCESO\n",
    "y = x ** 0.5\n",
    "#SALIDA\n",
    "print(\"Y: \",y)"
   ]
  },
  {
   "cell_type": "code",
   "execution_count": null,
   "id": "d99ab481-20ae-483f-a6b4-89f95764b27f",
   "metadata": {},
   "outputs": [],
   "source": []
  }
 ],
 "metadata": {
  "kernelspec": {
   "display_name": "Python 3 (ipykernel)",
   "language": "python",
   "name": "python3"
  },
  "language_info": {
   "codemirror_mode": {
    "name": "ipython",
    "version": 3
   },
   "file_extension": ".py",
   "mimetype": "text/x-python",
   "name": "python",
   "nbconvert_exporter": "python",
   "pygments_lexer": "ipython3",
   "version": "3.12.4"
  }
 },
 "nbformat": 4,
 "nbformat_minor": 5
}
