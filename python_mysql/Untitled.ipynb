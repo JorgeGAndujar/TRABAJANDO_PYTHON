{
 "cells": [
  {
   "cell_type": "code",
   "execution_count": 1,
   "id": "e619fe28-8172-46b3-9f28-1934fe040b6c",
   "metadata": {},
   "outputs": [
    {
     "name": "stdout",
     "output_type": "stream",
     "text": [
      "Requirement already satisfied: mysql-connector-python in c:\\users\\jorge\\anaconda3\\lib\\site-packages (9.1.0)\n"
     ]
    }
   ],
   "source": [
    "!pip install mysql-connector-python"
   ]
  },
  {
   "cell_type": "code",
   "execution_count": null,
   "id": "9e6faa04-fa60-4189-865d-bdc7f79412a8",
   "metadata": {},
   "outputs": [],
   "source": [
    "#!/usr/bin/env python\n",
    "# -*- coding: utf8 -*-\n",
    "\n",
    "import os, mysql.connector\n",
    "\n",
    "\n",
    "def obtener_conexion():\n",
    "    conexion = None\n",
    "    try:\n",
    "        conexion = mysql.connector.connect(\n",
    "            host=\"localhost\",\n",
    "            port=\"3307\",\n",
    "            user=\"root\",\n",
    "            password=\"12345678\",\n",
    "            database=\"test0001\"\n",
    "        )\n",
    "    except:\n",
    "        conexion = None\n",
    "    if conexion != None:\n",
    "       print(\"OK: CONEXION\")\n",
    "    else:\n",
    "       print(\"ERROR: CONEXION\")   \n",
    "\n",
    "def main():\n",
    "    conexion = obtener_conexion()\n",
    "\n",
    "if __name__ == \"__main__\":\n",
    "   main()"
   ]
  },
  {
   "cell_type": "code",
   "execution_count": null,
   "id": "dcf2f01b-eb8f-4dc8-a774-917b34c8fc03",
   "metadata": {},
   "outputs": [],
   "source": []
  }
 ],
 "metadata": {
  "kernelspec": {
   "display_name": "Python 3 (ipykernel)",
   "language": "python",
   "name": "python3"
  },
  "language_info": {
   "codemirror_mode": {
    "name": "ipython",
    "version": 3
   },
   "file_extension": ".py",
   "mimetype": "text/x-python",
   "name": "python",
   "nbconvert_exporter": "python",
   "pygments_lexer": "ipython3",
   "version": "3.12.4"
  }
 },
 "nbformat": 4,
 "nbformat_minor": 5
}
